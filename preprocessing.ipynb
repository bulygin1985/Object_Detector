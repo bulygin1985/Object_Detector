{
 "cells": [
  {
   "cell_type": "code",
   "execution_count": null,
   "metadata": {},
   "outputs": [],
   "source": [
    "import os, sys, tarfile\n",
    "import numpy as np\n",
    "import csv\n",
    "import pdb\n",
    "import data_preprocessing, data_generator, visual, label_parser\n",
    "from data_preprocessing import RandomShift, RandomHorizontalFlip, Shift\n",
    "import matplotlib.pyplot as plt\n",
    "import cv2\n",
    "import keras\n",
    "from PIL import Image, ImageDraw\n",
    "%matplotlib inline\n",
    "\n",
    "%load_ext autoreload\n",
    "%autoreload 2"
   ]
  },
  {
   "cell_type": "code",
   "execution_count": null,
   "metadata": {},
   "outputs": [],
   "source": [
    "TEST_PATH = '../udacity_driving_datasets/'\n",
    "test_ann = label_parser.parse_annotation_json(TEST_PATH, 'labels_val.json')\n",
    "print(\"len(test_ann) = \", len(test_ann))"
   ]
  },
  {
   "cell_type": "code",
   "execution_count": null,
   "metadata": {},
   "outputs": [],
   "source": [
    "size = 300\n",
    "config_test  = {'grid_w':9, 'grid_h':9, 'img_w' : size, 'img_h' : size, 'is_augment' : True, 'batch_size' : 100}\n",
    "testGenerator = data_generator.BatchGenerator(test_ann, config_test)"
   ]
  },
  {
   "cell_type": "code",
   "execution_count": null,
   "metadata": {
    "scrolled": false
   },
   "outputs": [],
   "source": [
    "plt.rcParams['figure.figsize'] = 20, 10\n",
    "plt.rcParams['lines.markersize'] = 30\n",
    "plt.rcParams['lines.linewidth'] = 5\n",
    "\n",
    "filename = list(test_ann.keys())[2]\n",
    "print(filename)\n",
    "rects = test_ann[filename]\n",
    "image = np.array(Image.open(filename))\n",
    "plt.imshow(image)\n",
    "print(rects)\n",
    "# plt.imshow(image)\n",
    "plt.imshow(visual.draw_image_rects(image, rects))"
   ]
  },
  {
   "cell_type": "code",
   "execution_count": null,
   "metadata": {},
   "outputs": [],
   "source": [
    "image, rects = testGenerator.get_image_rects(2)\n",
    "plt.imshow(visual.draw_image_rects(image, rects))"
   ]
  },
  {
   "cell_type": "code",
   "execution_count": null,
   "metadata": {},
   "outputs": [],
   "source": [
    "plt.imshow(visual.draw_image_rects(image, rects))"
   ]
  },
  {
   "cell_type": "code",
   "execution_count": null,
   "metadata": {},
   "outputs": [],
   "source": [
    "print(rects)"
   ]
  },
  {
   "cell_type": "code",
   "execution_count": null,
   "metadata": {},
   "outputs": [],
   "source": [
    "horizontal_flip = RandomHorizontalFlip()\n",
    "image_aug, rects_aug = horizontal_flip(image, rects)"
   ]
  },
  {
   "cell_type": "code",
   "execution_count": null,
   "metadata": {},
   "outputs": [],
   "source": [
    "plt.imshow(visual.draw_image_rects(image_aug, rects_aug))"
   ]
  },
  {
   "cell_type": "code",
   "execution_count": null,
   "metadata": {},
   "outputs": [],
   "source": [
    "shift = RandomShift(0.2, 0.2)\n",
    "image_aug, rects_aug = shift(image, rects)\n",
    "plt.imshow(visual.draw_image_rects(image_aug, rects_aug))"
   ]
  },
  {
   "cell_type": "code",
   "execution_count": null,
   "metadata": {},
   "outputs": [],
   "source": [
    "shift = Shift(0.2, 0.0)\n",
    "image_aug, rects_aug = shift(image, rects)\n",
    "plt.imshow(visual.draw_image_rects(image_aug, rects_aug))"
   ]
  },
  {
   "cell_type": "code",
   "execution_count": null,
   "metadata": {},
   "outputs": [],
   "source": [
    "def filter_rects(rects_aug):\n",
    "    '''\n",
    "    filter remove rectangles which centers are outside the image\n",
    "    and cut rectangles which go out the image\n",
    "    '''\n",
    "    rects_aug_filtered = []\n",
    "    for rect in rects_aug:\n",
    "        x_c = rect[0] + rect[2] / 2.0\n",
    "        y_c = rect[1] + rect[3] / 2.0\n",
    "        x_max = rect[0] + rect[2]\n",
    "        y_max = rect[1] + rect[3]\n",
    "        w = image.shape[1]\n",
    "        h = image.shape[0]\n",
    "        if x_c < w and x_c > 0 and y_c < h  and y_c > 0: # at least half of image must be on image\n",
    "            x_min = np.maximum(0, rect[0])\n",
    "            y_min = np.maximum(0, rect[1])\n",
    "            x_max = np.minimum(w-1, x_max)\n",
    "            y_max = np.minimum(h-1, y_max)\n",
    "            rects_aug_filtered += [np.array([x_min, y_min, x_max - x_min, y_max - y_min])]\n",
    "    return rects_aug_filtered"
   ]
  },
  {
   "cell_type": "code",
   "execution_count": null,
   "metadata": {},
   "outputs": [],
   "source": [
    "shift = Shift(0.0, 0.0)\n",
    "image_aug, rects_aug = shift(image, rects)\n",
    "filtered = filter_rects(rects_aug)\n",
    "plt.imshow(visual.draw_image_rects(image_aug, filtered))"
   ]
  },
  {
   "cell_type": "code",
   "execution_count": null,
   "metadata": {},
   "outputs": [],
   "source": [
    "filtered"
   ]
  },
  {
   "cell_type": "code",
   "execution_count": null,
   "metadata": {},
   "outputs": [],
   "source": []
  }
 ],
 "metadata": {
  "kernelspec": {
   "display_name": "Python 3",
   "language": "python",
   "name": "python3"
  },
  "language_info": {
   "codemirror_mode": {
    "name": "ipython",
    "version": 3
   },
   "file_extension": ".py",
   "mimetype": "text/x-python",
   "name": "python",
   "nbconvert_exporter": "python",
   "pygments_lexer": "ipython3",
   "version": "3.5.2"
  }
 },
 "nbformat": 4,
 "nbformat_minor": 2
}

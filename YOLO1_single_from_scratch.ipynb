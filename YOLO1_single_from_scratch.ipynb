{
 "cells": [
  {
   "cell_type": "markdown",
   "metadata": {},
   "source": [
    "### Simple detector for experiments : 1) loss function 2)head 3)feature extrator 4) augmentation\n",
    "### Just 10 epoch with lr = 0.001 (near 20 min) - and we get detector from scratch. Using pre-trained feature-extractor(for loss function and head experiments) - even faster"
   ]
  },
  {
   "cell_type": "code",
   "execution_count": 1,
   "metadata": {
    "scrolled": true
   },
   "outputs": [
    {
     "name": "stderr",
     "output_type": "stream",
     "text": [
      "C:\\Users\\Vital\\Anaconda3\\lib\\site-packages\\h5py\\__init__.py:36: FutureWarning: Conversion of the second argument of issubdtype from `float` to `np.floating` is deprecated. In future, it will be treated as `np.float64 == np.dtype(float).type`.\n",
      "  from ._conv import register_converters as _register_converters\n",
      "Using TensorFlow backend.\n"
     ]
    }
   ],
   "source": [
    "import sys\n",
    "import os, sys, tarfile\n",
    "import numpy as np\n",
    "import matplotlib.pyplot as plt\n",
    "import urllib\n",
    "from PIL import Image\n",
    "from keras.optimizers import RMSprop, SGD\n",
    "\n",
    "from keras.models import load_model\n",
    "import keras.backend as K\n",
    "import data_preprocessing, data_generator, visual, label_parser, data_postprocessing\n",
    "import pdb\n",
    "import tensorflow as tf\n",
    "\n",
    "%matplotlib inline\n",
    "\n",
    "%load_ext autoreload\n",
    "%autoreload 2\n",
    "#os.environ[\"CUDA_VISIBLE_DEVICES\"]=\"0\""
   ]
  },
  {
   "cell_type": "code",
   "execution_count": 2,
   "metadata": {},
   "outputs": [],
   "source": [
    "TRAIN_PATH = 'C:/datasets/mickey_dataset/train/'\n",
    "TEST_PATH = 'C:/datasets/mickey_dataset/train/'"
   ]
  },
  {
   "cell_type": "code",
   "execution_count": 3,
   "metadata": {
    "scrolled": true
   },
   "outputs": [
    {
     "name": "stdout",
     "output_type": "stream",
     "text": [
      "len(train_ann) =  100\n",
      "len(test_ann) =  100\n"
     ]
    }
   ],
   "source": [
    "train_ann = label_parser.parse_annotation_json(TRAIN_PATH)\n",
    "test_ann = label_parser.parse_annotation_json(TEST_PATH)\n",
    "print(\"len(train_ann) = \",len(train_ann))\n",
    "print(\"len(test_ann) = \", len(test_ann))"
   ]
  },
  {
   "cell_type": "code",
   "execution_count": 5,
   "metadata": {},
   "outputs": [],
   "source": [
    "size = 112\n",
    "config_train = {'grid_w':7, 'grid_h':7, 'img_w' : size, 'img_h' : size, 'is_augment' : False, 'batch_size' : 32}\n",
    "config_test  = {'grid_w':7, 'grid_h':7, 'img_w' : size, 'img_h' : size, 'is_augment' : False, 'batch_size' : 100}"
   ]
  },
  {
   "cell_type": "code",
   "execution_count": 6,
   "metadata": {},
   "outputs": [
    {
     "name": "stdout",
     "output_type": "stream",
     "text": [
      "iteration_num =  4\n",
      "iteration_num =  1\n"
     ]
    }
   ],
   "source": [
    "trainGenerator = data_generator.BatchGenerator(train_ann, config_train)\n",
    "testGenerator = data_generator.BatchGenerator(test_ann, config_test)"
   ]
  },
  {
   "cell_type": "code",
   "execution_count": 7,
   "metadata": {},
   "outputs": [
    {
     "data": {
      "text/plain": [
       "<tensorflow.python.client.session.Session at 0x1f4b761f828>"
      ]
     },
     "execution_count": 7,
     "metadata": {},
     "output_type": "execute_result"
    }
   ],
   "source": [
    "import tensorflow as tf\n",
    "\n",
    "config = tf.ConfigProto()    #to limit TensorFlow resources\n",
    "config.gpu_options.allow_growth = True\n",
    "tf.Session(config = config)"
   ]
  },
  {
   "cell_type": "code",
   "execution_count": 8,
   "metadata": {},
   "outputs": [],
   "source": [
    "from keras.models import Model\n",
    "from keras.layers import Flatten, Dense, Input, Conv2D, MaxPooling2D, Reshape, Activation, BatchNormalization\n",
    "\n",
    "GRID_W = config_train['grid_w']\n",
    "GRID_H = config_train['grid_h']\n",
    "input_w = config_train['img_w']\n",
    "input_h = config_train['img_h']\n",
    "\n",
    "img_input = Input(shape=(input_w, input_h, 3), name = 'image_input')\n",
    "\n",
    "#TODO - experiment with decreasing conv filter num\n",
    "x = Conv2D(filters = 16, kernel_size = (3, 3), padding = 'same')(img_input)\n",
    "x = BatchNormalization()(x)\n",
    "x = Activation(\"relu\")(x)\n",
    "x = MaxPooling2D()(x) \n",
    "\n",
    "x = Conv2D(filters = 24, kernel_size = (3, 3), padding = 'same')(x)\n",
    "x = BatchNormalization()(x)\n",
    "x = Activation(\"relu\")(x)\n",
    "x = MaxPooling2D()(x) \n",
    "\n",
    "x = Conv2D(filters = 32, kernel_size = (3, 3), padding = 'same')(x)\n",
    "x = BatchNormalization()(x)\n",
    "x = Activation(\"relu\")(x)\n",
    "x = MaxPooling2D()(x) \n",
    "\n",
    "x = Conv2D(filters = 48, kernel_size = (3, 3), padding = 'same')(x)\n",
    "x = BatchNormalization()(x)\n",
    "x = Activation(\"relu\")(x)\n",
    "x = MaxPooling2D()(x) \n",
    "\n",
    "# x = Conv2D(filters = 64, kernel_size = (3, 3), padding = 'same')(x)\n",
    "# x = BatchNormalization()(x)\n",
    "# x = Activation(\"relu\")(x)\n",
    "# x = MaxPooling2D()(x) \n",
    "\n",
    "x = Flatten(name='flatten')(x)\n",
    "x = Dense(512, activation='relu')(x)\n",
    "x = Dense(512, activation='relu')(x)\n",
    "x = Dense(5*GRID_W*GRID_H)(x)\n",
    "x = Reshape((GRID_W, GRID_H, 5))(x)\n",
    "\n",
    "model = Model(inputs=img_input, outputs=x)"
   ]
  },
  {
   "cell_type": "code",
   "execution_count": 9,
   "metadata": {},
   "outputs": [],
   "source": [
    "import tensorflow as tf\n",
    "def YOLO_loss(y_true, y_pred):\n",
    "    mask_obj = K.expand_dims(y_true[..., 0], axis=-1)\n",
    "    mask_no_obj = 1 - mask_obj\n",
    "    loss_obj = K.sum(K.square(y_true-y_pred)*mask_obj)                             #Loss_xywhp for object\n",
    "    loss_no_obj = K.sum(K.square(y_true[...,0]-y_pred[...,0])*mask_no_obj[...,0] ) #only confidence\n",
    "    N_obj = tf.reduce_sum(tf.to_float(mask_obj > 0.0))\n",
    "    N_no_obj = tf.reduce_sum(tf.to_float(mask_no_obj > 0.0))\n",
    "    return loss_obj / (N_obj + 1e-06) + 5 * loss_no_obj / (N_no_obj + 1e-06)       #because only 1 from 5 values (p,x,y,w,h)"
   ]
  },
  {
   "cell_type": "markdown",
   "metadata": {
    "collapsed": true
   },
   "source": [
    "from keras.utils.generic_utils import get_custom_objects\n",
    "from keras.models import load_model\n",
    "get_custom_objects().update({\"YOLO_loss\": YOLO_loss})\n",
    "model = load_model(\"YOLO_scratch\", custom_objects={ 'loss': YOLO_loss } )"
   ]
  },
  {
   "cell_type": "code",
   "execution_count": 10,
   "metadata": {},
   "outputs": [],
   "source": [
    "model.compile(loss=YOLO_loss, optimizer = SGD(lr=0.001, momentum=0.9), metrics=['accuracy'])"
   ]
  },
  {
   "cell_type": "code",
   "execution_count": 11,
   "metadata": {
    "scrolled": true
   },
   "outputs": [
    {
     "name": "stdout",
     "output_type": "stream",
     "text": [
      "\r",
      "32/32 [==============================] - 0s 12ms/step\n"
     ]
    },
    {
     "data": {
      "text/plain": [
       "[5.9246602058410645, 0.19770407676696777]"
      ]
     },
     "execution_count": 11,
     "metadata": {},
     "output_type": "execute_result"
    }
   ],
   "source": [
    "x_batch, y_batch = trainGenerator.__getitem__(0)\n",
    "model.evaluate(x_batch, y_batch)"
   ]
  },
  {
   "cell_type": "code",
   "execution_count": 12,
   "metadata": {},
   "outputs": [],
   "source": [
    "from time import time\n",
    "from keras.callbacks import ModelCheckpoint, EarlyStopping, ReduceLROnPlateau, TensorBoard\n",
    "checkpoint = ModelCheckpoint(\"YOLO_scratch_overfit\", monitor='val_loss', verbose=2, save_best_only=True, mode='min')\n",
    "callbacks_list = [checkpoint]"
   ]
  },
  {
   "cell_type": "code",
   "execution_count": 18,
   "metadata": {
    "scrolled": true
   },
   "outputs": [
    {
     "name": "stdout",
     "output_type": "stream",
     "text": [
      "Epoch 1/50\n",
      "3/4 [=====================>........] - ETA: 1s - loss: 10.3938 - acc: 0.1918epoch is finished\n",
      "epoch is finished\n",
      "4/4 [==============================] - 5s 1s/step - loss: 9.2441 - acc: 0.1781 - val_loss: 5.4645 - val_acc: 0.1288\n",
      "\n",
      "Epoch 00001: val_loss improved from inf to 5.46453, saving model to YOLO_scratch_overfit\n",
      "Epoch 2/50\n",
      "3/4 [=====================>........] - ETA: 0s - loss: 4.9392 - acc: 0.1278epoch is finished\n",
      "epoch is finished\n",
      "4/4 [==============================] - 4s 1s/step - loss: 4.6568 - acc: 0.1234 - val_loss: 3.5006 - val_acc: 0.0976\n",
      "\n",
      "Epoch 00002: val_loss improved from 5.46453 to 3.50055, saving model to YOLO_scratch_overfit\n",
      "Epoch 3/50\n",
      "3/4 [=====================>........] - ETA: 0s - loss: 3.0476 - acc: 0.0925epoch is finished\n",
      "epoch is finished\n",
      "4/4 [==============================] - 4s 1s/step - loss: 2.9085 - acc: 0.0901 - val_loss: 2.4761 - val_acc: 0.0716\n",
      "\n",
      "Epoch 00003: val_loss improved from 3.50055 to 2.47605, saving model to YOLO_scratch_overfit\n",
      "Epoch 4/50\n",
      "3/4 [=====================>........] - ETA: 0s - loss: 2.2256 - acc: 0.0719epoch is finished\n",
      "epoch is finished\n",
      "4/4 [==============================] - 4s 1s/step - loss: 2.1336 - acc: 0.0698 - val_loss: 1.8226 - val_acc: 0.0649\n",
      "\n",
      "Epoch 00004: val_loss improved from 2.47605 to 1.82265, saving model to YOLO_scratch_overfit\n",
      "Epoch 5/50\n",
      "3/4 [=====================>........] - ETA: 0s - loss: 1.6960 - acc: 0.0712epoch is finished\n",
      "epoch is finished\n",
      "4/4 [==============================] - 4s 1s/step - loss: 1.6357 - acc: 0.0735 - val_loss: 1.5328 - val_acc: 0.0743\n",
      "\n",
      "Epoch 00005: val_loss improved from 1.82265 to 1.53276, saving model to YOLO_scratch_overfit\n",
      "Epoch 6/50\n",
      "3/4 [=====================>........] - ETA: 0s - loss: 1.4181 - acc: 0.0697epoch is finished\n",
      "epoch is finished\n",
      "4/4 [==============================] - 4s 1s/step - loss: 1.3799 - acc: 0.0695 - val_loss: 1.3630 - val_acc: 0.0784\n",
      "\n",
      "Epoch 00006: val_loss improved from 1.53276 to 1.36295, saving model to YOLO_scratch_overfit\n",
      "Epoch 7/50\n",
      "3/4 [=====================>........] - ETA: 0s - loss: 1.2402 - acc: 0.0795epoch is finished\n",
      "epoch is finished\n",
      "4/4 [==============================] - 4s 1s/step - loss: 1.2254 - acc: 0.0807 - val_loss: 1.1858 - val_acc: 0.0788\n",
      "\n",
      "Epoch 00007: val_loss improved from 1.36295 to 1.18575, saving model to YOLO_scratch_overfit\n",
      "Epoch 8/50\n",
      "3/4 [=====================>........] - ETA: 0s - loss: 1.0401 - acc: 0.0778epoch is finished\n",
      "epoch is finished\n",
      "4/4 [==============================] - 4s 1s/step - loss: 1.0257 - acc: 0.0767 - val_loss: 1.0264 - val_acc: 0.0761\n",
      "\n",
      "Epoch 00008: val_loss improved from 1.18575 to 1.02638, saving model to YOLO_scratch_overfit\n",
      "Epoch 9/50\n",
      "3/4 [=====================>........] - ETA: 0s - loss: 0.8839 - acc: 0.0727epoch is finished\n",
      "epoch is finished\n",
      "4/4 [==============================] - 4s 1s/step - loss: 0.8768 - acc: 0.0741 - val_loss: 0.9024 - val_acc: 0.0743\n",
      "\n",
      "Epoch 00009: val_loss improved from 1.02638 to 0.90235, saving model to YOLO_scratch_overfit\n",
      "Epoch 10/50\n",
      "3/4 [=====================>........] - ETA: 0s - loss: 0.8032 - acc: 0.0704epoch is finished\n",
      "epoch is finished\n",
      "4/4 [==============================] - 4s 1s/step - loss: 0.8041 - acc: 0.0698 - val_loss: 0.7956 - val_acc: 0.0729\n",
      "\n",
      "Epoch 00010: val_loss improved from 0.90235 to 0.79558, saving model to YOLO_scratch_overfit\n",
      "Epoch 11/50\n",
      "3/4 [=====================>........] - ETA: 0s - loss: 0.7181 - acc: 0.0678epoch is finished\n",
      "epoch is finished\n",
      "4/4 [==============================] - 4s 1s/step - loss: 0.7252 - acc: 0.0671 - val_loss: 0.7225 - val_acc: 0.0727\n",
      "\n",
      "Epoch 00011: val_loss improved from 0.79558 to 0.72249, saving model to YOLO_scratch_overfit\n",
      "Epoch 12/50\n",
      "3/4 [=====================>........] - ETA: 0s - loss: 0.6625 - acc: 0.0759epoch is finished\n",
      "epoch is finished\n",
      "4/4 [==============================] - 4s 1s/step - loss: 0.6507 - acc: 0.0754 - val_loss: 0.6822 - val_acc: 0.0727\n",
      "\n",
      "Epoch 00012: val_loss improved from 0.72249 to 0.68219, saving model to YOLO_scratch_overfit\n",
      "Epoch 13/50\n",
      "3/4 [=====================>........] - ETA: 0s - loss: 0.6390 - acc: 0.0791epoch is finished\n",
      "epoch is finished\n",
      "4/4 [==============================] - 4s 1s/step - loss: 0.6217 - acc: 0.0778 - val_loss: 0.6405 - val_acc: 0.0739\n",
      "\n",
      "Epoch 00013: val_loss improved from 0.68219 to 0.64049, saving model to YOLO_scratch_overfit\n",
      "Epoch 14/50\n",
      "3/4 [=====================>........] - ETA: 0s - loss: 0.5765 - acc: 0.0789epoch is finished\n",
      "epoch is finished\n",
      "4/4 [==============================] - 4s 1s/step - loss: 0.5719 - acc: 0.0776 - val_loss: 0.5785 - val_acc: 0.0743\n",
      "\n",
      "Epoch 00014: val_loss improved from 0.64049 to 0.57845, saving model to YOLO_scratch_overfit\n",
      "Epoch 15/50\n",
      "3/4 [=====================>........] - ETA: 0s - loss: 0.5373 - acc: 0.0706epoch is finished\n",
      "epoch is finished\n",
      "4/4 [==============================] - 4s 1s/step - loss: 0.5332 - acc: 0.0703 - val_loss: 0.5366 - val_acc: 0.0733\n",
      "\n",
      "Epoch 00015: val_loss improved from 0.57845 to 0.53660, saving model to YOLO_scratch_overfit\n",
      "Epoch 16/50\n",
      "3/4 [=====================>........] - ETA: 0s - loss: 0.5047 - acc: 0.0736epoch is finished\n",
      "epoch is finished\n",
      "4/4 [==============================] - 4s 1s/step - loss: 0.5032 - acc: 0.0735 - val_loss: 0.5006 - val_acc: 0.0729\n",
      "\n",
      "Epoch 00016: val_loss improved from 0.53660 to 0.50061, saving model to YOLO_scratch_overfit\n",
      "Epoch 17/50\n",
      "3/4 [=====================>........] - ETA: 0s - loss: 0.4747 - acc: 0.0693epoch is finished\n",
      "epoch is finished\n",
      "4/4 [==============================] - 4s 1s/step - loss: 0.4756 - acc: 0.0690 - val_loss: 0.4680 - val_acc: 0.0735\n",
      "\n",
      "Epoch 00017: val_loss improved from 0.50061 to 0.46797, saving model to YOLO_scratch_overfit\n",
      "Epoch 18/50\n",
      "3/4 [=====================>........] - ETA: 0s - loss: 0.4502 - acc: 0.0661epoch is finished\n",
      "epoch is finished\n",
      "4/4 [==============================] - 4s 1s/step - loss: 0.4432 - acc: 0.0714 - val_loss: 0.4383 - val_acc: 0.0735\n",
      "\n",
      "Epoch 00018: val_loss improved from 0.46797 to 0.43833, saving model to YOLO_scratch_overfit\n",
      "Epoch 19/50\n",
      "3/4 [=====================>........] - ETA: 0s - loss: 0.4163 - acc: 0.0676epoch is finished\n",
      "epoch is finished\n",
      "4/4 [==============================] - 4s 1s/step - loss: 0.4206 - acc: 0.0692 - val_loss: 0.4230 - val_acc: 0.0727\n",
      "\n",
      "Epoch 00019: val_loss improved from 0.43833 to 0.42298, saving model to YOLO_scratch_overfit\n",
      "Epoch 20/50\n",
      "3/4 [=====================>........] - ETA: 0s - loss: 0.3966 - acc: 0.0721epoch is finished\n",
      "epoch is finished\n",
      "4/4 [==============================] - 4s 1s/step - loss: 0.3948 - acc: 0.0724 - val_loss: 0.4025 - val_acc: 0.0716\n",
      "\n",
      "Epoch 00020: val_loss improved from 0.42298 to 0.40251, saving model to YOLO_scratch_overfit\n",
      "Epoch 21/50\n",
      "3/4 [=====================>........] - ETA: 0s - loss: 0.3767 - acc: 0.0668epoch is finished\n",
      "epoch is finished\n",
      "4/4 [==============================] - 4s 1s/step - loss: 0.3735 - acc: 0.0692 - val_loss: 0.3799 - val_acc: 0.0722\n",
      "\n",
      "Epoch 00021: val_loss improved from 0.40251 to 0.37995, saving model to YOLO_scratch_overfit\n",
      "Epoch 22/50\n",
      "3/4 [=====================>........] - ETA: 0s - loss: 0.3565 - acc: 0.0712epoch is finished\n",
      "epoch is finished\n",
      "4/4 [==============================] - 4s 1s/step - loss: 0.3635 - acc: 0.0686 - val_loss: 0.3572 - val_acc: 0.0720\n",
      "\n",
      "Epoch 00022: val_loss improved from 0.37995 to 0.35720, saving model to YOLO_scratch_overfit\n",
      "Epoch 23/50\n",
      "3/4 [=====================>........] - ETA: 0s - loss: 0.3321 - acc: 0.0740epoch is finished\n",
      "epoch is finished\n",
      "4/4 [==============================] - 4s 1s/step - loss: 0.3286 - acc: 0.0735 - val_loss: 0.3395 - val_acc: 0.0724\n",
      "\n",
      "Epoch 00023: val_loss improved from 0.35720 to 0.33954, saving model to YOLO_scratch_overfit\n",
      "Epoch 24/50\n",
      "3/4 [=====================>........] - ETA: 0s - loss: 0.3150 - acc: 0.0668epoch is finished\n",
      "epoch is finished\n",
      "4/4 [==============================] - 4s 1s/step - loss: 0.3097 - acc: 0.0670 - val_loss: 0.3252 - val_acc: 0.0731\n",
      "\n",
      "Epoch 00024: val_loss improved from 0.33954 to 0.32521, saving model to YOLO_scratch_overfit\n",
      "Epoch 25/50\n",
      "3/4 [=====================>........] - ETA: 0s - loss: 0.3175 - acc: 0.0685epoch is finished\n",
      "epoch is finished\n",
      "4/4 [==============================] - 4s 1s/step - loss: 0.3180 - acc: 0.0724 - val_loss: 0.3116 - val_acc: 0.0729\n"
     ]
    },
    {
     "name": "stdout",
     "output_type": "stream",
     "text": [
      "\n",
      "Epoch 00025: val_loss improved from 0.32521 to 0.31159, saving model to YOLO_scratch_overfit\n",
      "Epoch 26/50\n",
      "3/4 [=====================>........] - ETA: 0s - loss: 0.2883 - acc: 0.0738epoch is finished\n",
      "epoch is finished\n",
      "4/4 [==============================] - 4s 1s/step - loss: 0.2876 - acc: 0.0725 - val_loss: 0.2933 - val_acc: 0.0714\n",
      "\n",
      "Epoch 00026: val_loss improved from 0.31159 to 0.29326, saving model to YOLO_scratch_overfit\n",
      "Epoch 27/50\n",
      "3/4 [=====================>........] - ETA: 0s - loss: 0.2794 - acc: 0.0740epoch is finished\n",
      "epoch is finished\n",
      "4/4 [==============================] - 4s 1s/step - loss: 0.2795 - acc: 0.0741 - val_loss: 0.2828 - val_acc: 0.0716\n",
      "\n",
      "Epoch 00027: val_loss improved from 0.29326 to 0.28284, saving model to YOLO_scratch_overfit\n",
      "Epoch 28/50\n",
      "3/4 [=====================>........] - ETA: 0s - loss: 0.2699 - acc: 0.0753epoch is finished\n",
      "epoch is finished\n",
      "4/4 [==============================] - 4s 1s/step - loss: 0.2657 - acc: 0.0737 - val_loss: 0.2699 - val_acc: 0.0720\n",
      "\n",
      "Epoch 00028: val_loss improved from 0.28284 to 0.26995, saving model to YOLO_scratch_overfit\n",
      "Epoch 29/50\n",
      "3/4 [=====================>........] - ETA: 0s - loss: 0.2564 - acc: 0.0685epoch is finished\n",
      "epoch is finished\n",
      "4/4 [==============================] - 4s 1s/step - loss: 0.2547 - acc: 0.0679 - val_loss: 0.2636 - val_acc: 0.0727\n",
      "\n",
      "Epoch 00029: val_loss improved from 0.26995 to 0.26359, saving model to YOLO_scratch_overfit\n",
      "Epoch 30/50\n",
      "3/4 [=====================>........] - ETA: 0s - loss: 0.2635 - acc: 0.0661epoch is finished\n",
      "epoch is finished\n",
      "4/4 [==============================] - 4s 1s/step - loss: 0.2573 - acc: 0.0647 - val_loss: 0.2514 - val_acc: 0.0724\n",
      "\n",
      "Epoch 00030: val_loss improved from 0.26359 to 0.25139, saving model to YOLO_scratch_overfit\n",
      "Epoch 31/50\n",
      "3/4 [=====================>........] - ETA: 0s - loss: 0.2462 - acc: 0.0755epoch is finished\n",
      "epoch is finished\n",
      "4/4 [==============================] - 4s 1s/step - loss: 0.2515 - acc: 0.0773 - val_loss: 0.2405 - val_acc: 0.0729\n",
      "\n",
      "Epoch 00031: val_loss improved from 0.25139 to 0.24054, saving model to YOLO_scratch_overfit\n",
      "Epoch 32/50\n",
      "3/4 [=====================>........] - ETA: 0s - loss: 0.2637 - acc: 0.0742epoch is finished\n",
      "epoch is finished\n",
      "4/4 [==============================] - 4s 1s/step - loss: 0.2547 - acc: 0.0735 - val_loss: 0.2312 - val_acc: 0.0729\n",
      "\n",
      "Epoch 00032: val_loss improved from 0.24054 to 0.23122, saving model to YOLO_scratch_overfit\n",
      "Epoch 33/50\n",
      "3/4 [=====================>........] - ETA: 0s - loss: 0.2205 - acc: 0.0714epoch is finished\n",
      "epoch is finished\n",
      "4/4 [==============================] - 4s 1s/step - loss: 0.2187 - acc: 0.0705 - val_loss: 0.2208 - val_acc: 0.0727\n",
      "\n",
      "Epoch 00033: val_loss improved from 0.23122 to 0.22080, saving model to YOLO_scratch_overfit\n",
      "Epoch 34/50\n",
      "3/4 [=====================>........] - ETA: 0s - loss: 0.2228 - acc: 0.0733epoch is finished\n",
      "epoch is finished\n",
      "4/4 [==============================] - 4s 1s/step - loss: 0.2253 - acc: 0.0754 - val_loss: 0.2161 - val_acc: 0.0724\n",
      "\n",
      "Epoch 00034: val_loss improved from 0.22080 to 0.21610, saving model to YOLO_scratch_overfit\n",
      "Epoch 35/50\n",
      "3/4 [=====================>........] - ETA: 0s - loss: 0.1954 - acc: 0.0687epoch is finished\n",
      "epoch is finished\n",
      "4/4 [==============================] - 4s 1s/step - loss: 0.2002 - acc: 0.0717 - val_loss: 0.2116 - val_acc: 0.0720\n",
      "\n",
      "Epoch 00035: val_loss improved from 0.21610 to 0.21160, saving model to YOLO_scratch_overfit\n",
      "Epoch 36/50\n",
      "3/4 [=====================>........] - ETA: 0s - loss: 0.2035 - acc: 0.0710epoch is finished\n",
      "epoch is finished\n",
      "4/4 [==============================] - 4s 1s/step - loss: 0.1988 - acc: 0.0705 - val_loss: 0.2014 - val_acc: 0.0714\n",
      "\n",
      "Epoch 00036: val_loss improved from 0.21160 to 0.20142, saving model to YOLO_scratch_overfit\n",
      "Epoch 37/50\n",
      "3/4 [=====================>........] - ETA: 0s - loss: 0.1864 - acc: 0.0704epoch is finished\n",
      "epoch is finished\n",
      "4/4 [==============================] - 4s 1s/step - loss: 0.1897 - acc: 0.0733 - val_loss: 0.1932 - val_acc: 0.0718\n",
      "\n",
      "Epoch 00037: val_loss improved from 0.20142 to 0.19325, saving model to YOLO_scratch_overfit\n",
      "Epoch 38/50\n",
      "3/4 [=====================>........] - ETA: 0s - loss: 0.2002 - acc: 0.0693epoch is finished\n",
      "epoch is finished\n",
      "4/4 [==============================] - 4s 1s/step - loss: 0.2088 - acc: 0.0700 - val_loss: 0.1857 - val_acc: 0.0722\n",
      "\n",
      "Epoch 00038: val_loss improved from 0.19325 to 0.18566, saving model to YOLO_scratch_overfit\n",
      "Epoch 39/50\n",
      "3/4 [=====================>........] - ETA: 0s - loss: 0.1922 - acc: 0.0725epoch is finished\n",
      "epoch is finished\n",
      "4/4 [==============================] - 4s 1s/step - loss: 0.1936 - acc: 0.0730 - val_loss: 0.1845 - val_acc: 0.0722\n",
      "\n",
      "Epoch 00039: val_loss improved from 0.18566 to 0.18454, saving model to YOLO_scratch_overfit\n",
      "Epoch 40/50\n",
      "3/4 [=====================>........] - ETA: 0s - loss: 0.1937 - acc: 0.0744epoch is finished\n",
      "epoch is finished\n",
      "4/4 [==============================] - 4s 1s/step - loss: 0.1910 - acc: 0.0725 - val_loss: 0.1767 - val_acc: 0.0718\n",
      "\n",
      "Epoch 00040: val_loss improved from 0.18454 to 0.17668, saving model to YOLO_scratch_overfit\n",
      "Epoch 41/50\n",
      "3/4 [=====================>........] - ETA: 0s - loss: 0.1794 - acc: 0.0725epoch is finished\n",
      "epoch is finished\n",
      "4/4 [==============================] - 4s 1s/step - loss: 0.1739 - acc: 0.0716 - val_loss: 0.1739 - val_acc: 0.0712\n",
      "\n",
      "Epoch 00041: val_loss improved from 0.17668 to 0.17386, saving model to YOLO_scratch_overfit\n",
      "Epoch 42/50\n",
      "3/4 [=====================>........] - ETA: 0s - loss: 0.1702 - acc: 0.0706epoch is finished\n",
      "epoch is finished\n",
      "4/4 [==============================] - 4s 1s/step - loss: 0.1679 - acc: 0.0730 - val_loss: 0.1657 - val_acc: 0.0716\n",
      "\n",
      "Epoch 00042: val_loss improved from 0.17386 to 0.16570, saving model to YOLO_scratch_overfit\n",
      "Epoch 43/50\n",
      "3/4 [=====================>........] - ETA: 0s - loss: 0.1627 - acc: 0.0729epoch is finished\n",
      "epoch is finished\n",
      "4/4 [==============================] - 4s 1s/step - loss: 0.1603 - acc: 0.0732 - val_loss: 0.1609 - val_acc: 0.0718\n",
      "\n",
      "Epoch 00043: val_loss improved from 0.16570 to 0.16086, saving model to YOLO_scratch_overfit\n",
      "Epoch 44/50\n",
      "3/4 [=====================>........] - ETA: 0s - loss: 0.1540 - acc: 0.0733epoch is finished\n",
      "epoch is finished\n",
      "4/4 [==============================] - 4s 1s/step - loss: 0.1583 - acc: 0.0743 - val_loss: 0.1528 - val_acc: 0.0720\n",
      "\n",
      "Epoch 00044: val_loss improved from 0.16086 to 0.15280, saving model to YOLO_scratch_overfit\n",
      "Epoch 45/50\n",
      "3/4 [=====================>........] - ETA: 0s - loss: 0.1602 - acc: 0.0721epoch is finished\n",
      "epoch is finished\n",
      "4/4 [==============================] - 4s 1s/step - loss: 0.1575 - acc: 0.0710 - val_loss: 0.1488 - val_acc: 0.0720\n",
      "\n",
      "Epoch 00045: val_loss improved from 0.15280 to 0.14880, saving model to YOLO_scratch_overfit\n",
      "Epoch 46/50\n",
      "3/4 [=====================>........] - ETA: 0s - loss: 0.1509 - acc: 0.0663epoch is finished\n",
      "epoch is finished\n",
      "4/4 [==============================] - 4s 1s/step - loss: 0.1494 - acc: 0.0697 - val_loss: 0.1468 - val_acc: 0.0716\n",
      "\n",
      "Epoch 00046: val_loss improved from 0.14880 to 0.14679, saving model to YOLO_scratch_overfit\n",
      "Epoch 47/50\n",
      "3/4 [=====================>........] - ETA: 0s - loss: 0.1477 - acc: 0.0738epoch is finished\n",
      "epoch is finished\n",
      "4/4 [==============================] - 4s 1s/step - loss: 0.1455 - acc: 0.0719 - val_loss: 0.1416 - val_acc: 0.0716\n",
      "\n",
      "Epoch 00047: val_loss improved from 0.14679 to 0.14158, saving model to YOLO_scratch_overfit\n",
      "Epoch 48/50\n",
      "3/4 [=====================>........] - ETA: 0s - loss: 0.1441 - acc: 0.0736epoch is finished\n",
      "epoch is finished\n",
      "4/4 [==============================] - 4s 1s/step - loss: 0.1420 - acc: 0.0730 - val_loss: 0.1387 - val_acc: 0.0720\n",
      "\n",
      "Epoch 00048: val_loss improved from 0.14158 to 0.13875, saving model to YOLO_scratch_overfit\n",
      "Epoch 49/50\n",
      "3/4 [=====================>........] - ETA: 0s - loss: 0.1382 - acc: 0.0727epoch is finished\n",
      "epoch is finished\n",
      "4/4 [==============================] - 4s 1s/step - loss: 0.1420 - acc: 0.0724 - val_loss: 0.1323 - val_acc: 0.0722\n",
      "\n",
      "Epoch 00049: val_loss improved from 0.13875 to 0.13227, saving model to YOLO_scratch_overfit\n",
      "Epoch 50/50\n",
      "3/4 [=====================>........] - ETA: 0s - loss: 0.1373 - acc: 0.0708epoch is finished\n",
      "epoch is finished\n"
     ]
    },
    {
     "name": "stdout",
     "output_type": "stream",
     "text": [
      "4/4 [==============================] - 4s 1s/step - loss: 0.1358 - acc: 0.0700 - val_loss: 0.1331 - val_acc: 0.0722\n",
      "\n",
      "Epoch 00050: val_loss did not improve from 0.13227\n"
     ]
    },
    {
     "data": {
      "text/plain": [
       "<keras.callbacks.History at 0x1f4ba8457f0>"
      ]
     },
     "execution_count": 18,
     "metadata": {},
     "output_type": "execute_result"
    }
   ],
   "source": [
    "model.fit_generator(generator = trainGenerator, steps_per_epoch  = len(trainGenerator), epochs = 50, validation_data = testGenerator, verbose = 1, callbacks=callbacks_list)"
   ]
  },
  {
   "cell_type": "markdown",
   "metadata": {},
   "source": [
    "only flip - 87s - no crash\n",
    "flip + rotation - 231s - no crash\n",
    "flip + width and height shift_range -  231s - no crash\n",
    "flip +  shear_range zoom_range - 231s - no crash\n"
   ]
  },
  {
   "cell_type": "markdown",
   "metadata": {
    "collapsed": true
   },
   "source": [
    "112x112x3 (4 conv-pool) lr = 0.001 epoch - 90 sec, 10 epoch, loss - 0.3?, AP = 0.6?\n",
    "224x224x3 (5 conv-pool) lr = 0.001, epoch - 120 sec, 3 epoch - loss 0.5, 10 epoch, loss - 0.26, AP = 0.66\n",
    "20 epoch, loss = 0.1562, AP = 0.763"
   ]
  },
  {
   "cell_type": "code",
   "execution_count": 14,
   "metadata": {
    "scrolled": true
   },
   "outputs": [
    {
     "name": "stdout",
     "output_type": "stream",
     "text": [
      "Epoch 1/10\n",
      "624/625 [============================>.] - ETA: 0s - loss: 0.1479 - acc: 0.0676epoch is finished\n",
      "epoch is finished\n",
      "625/625 [==============================] - 184s 295ms/step - loss: 0.1479 - acc: 0.0676 - val_loss: 0.1654 - val_acc: 0.0657\n",
      "Epoch 2/10\n",
      "624/625 [============================>.] - ETA: 0s - loss: 0.1467 - acc: 0.0679epoch is finished\n",
      "epoch is finished\n",
      "625/625 [==============================] - 193s 308ms/step - loss: 0.1467 - acc: 0.0679 - val_loss: 0.1605 - val_acc: 0.0667\n",
      "Epoch 3/10\n",
      "624/625 [============================>.] - ETA: 0s - loss: 0.1462 - acc: 0.0676epoch is finished\n",
      "epoch is finished\n",
      "625/625 [==============================] - 179s 287ms/step - loss: 0.1462 - acc: 0.0676 - val_loss: 0.1630 - val_acc: 0.0664\n",
      "Epoch 4/10\n",
      " 25/625 [>.............................] - ETA: 1:35 - loss: 0.1419 - acc: 0.0670"
     ]
    },
    {
     "ename": "KeyboardInterrupt",
     "evalue": "",
     "output_type": "error",
     "traceback": [
      "\u001b[0;31m---------------------------------------------------------------------------\u001b[0m",
      "\u001b[0;31mKeyboardInterrupt\u001b[0m                         Traceback (most recent call last)",
      "\u001b[0;32m<ipython-input-14-b3140cfd8b17>\u001b[0m in \u001b[0;36m<module>\u001b[0;34m()\u001b[0m\n\u001b[1;32m      1\u001b[0m \u001b[0mK\u001b[0m\u001b[0;34m.\u001b[0m\u001b[0mset_value\u001b[0m\u001b[0;34m(\u001b[0m\u001b[0mmodel\u001b[0m\u001b[0;34m.\u001b[0m\u001b[0moptimizer\u001b[0m\u001b[0;34m.\u001b[0m\u001b[0mlr\u001b[0m\u001b[0;34m,\u001b[0m \u001b[0;36m0.0001\u001b[0m\u001b[0;34m)\u001b[0m\u001b[0;34m\u001b[0m\u001b[0m\n\u001b[0;32m----> 2\u001b[0;31m \u001b[0mmodel\u001b[0m\u001b[0;34m.\u001b[0m\u001b[0mfit_generator\u001b[0m\u001b[0;34m(\u001b[0m\u001b[0mgenerator\u001b[0m \u001b[0;34m=\u001b[0m \u001b[0mtrainGenerator\u001b[0m\u001b[0;34m,\u001b[0m \u001b[0msteps_per_epoch\u001b[0m  \u001b[0;34m=\u001b[0m \u001b[0mlen\u001b[0m\u001b[0;34m(\u001b[0m\u001b[0mtrainGenerator\u001b[0m\u001b[0;34m)\u001b[0m\u001b[0;34m,\u001b[0m \u001b[0mepochs\u001b[0m \u001b[0;34m=\u001b[0m \u001b[0;36m10\u001b[0m\u001b[0;34m,\u001b[0m \u001b[0mvalidation_data\u001b[0m \u001b[0;34m=\u001b[0m \u001b[0mtestGenerator\u001b[0m\u001b[0;34m,\u001b[0m \u001b[0mverbose\u001b[0m \u001b[0;34m=\u001b[0m \u001b[0;36m1\u001b[0m\u001b[0;34m)\u001b[0m\u001b[0;34m\u001b[0m\u001b[0m\n\u001b[0m",
      "\u001b[0;32m/opt/virtualenvs/tf/local/lib/python2.7/site-packages/keras/legacy/interfaces.pyc\u001b[0m in \u001b[0;36mwrapper\u001b[0;34m(*args, **kwargs)\u001b[0m\n\u001b[1;32m     85\u001b[0m                 warnings.warn('Update your `' + object_name +\n\u001b[1;32m     86\u001b[0m                               '` call to the Keras 2 API: ' + signature, stacklevel=2)\n\u001b[0;32m---> 87\u001b[0;31m             \u001b[0;32mreturn\u001b[0m \u001b[0mfunc\u001b[0m\u001b[0;34m(\u001b[0m\u001b[0;34m*\u001b[0m\u001b[0margs\u001b[0m\u001b[0;34m,\u001b[0m \u001b[0;34m**\u001b[0m\u001b[0mkwargs\u001b[0m\u001b[0;34m)\u001b[0m\u001b[0;34m\u001b[0m\u001b[0m\n\u001b[0m\u001b[1;32m     88\u001b[0m         \u001b[0mwrapper\u001b[0m\u001b[0;34m.\u001b[0m\u001b[0m_original_function\u001b[0m \u001b[0;34m=\u001b[0m \u001b[0mfunc\u001b[0m\u001b[0;34m\u001b[0m\u001b[0m\n\u001b[1;32m     89\u001b[0m         \u001b[0;32mreturn\u001b[0m \u001b[0mwrapper\u001b[0m\u001b[0;34m\u001b[0m\u001b[0m\n",
      "\u001b[0;32m/opt/virtualenvs/tf/local/lib/python2.7/site-packages/keras/engine/training.pyc\u001b[0m in \u001b[0;36mfit_generator\u001b[0;34m(self, generator, steps_per_epoch, epochs, verbose, callbacks, validation_data, validation_steps, class_weight, max_queue_size, workers, use_multiprocessing, shuffle, initial_epoch)\u001b[0m\n\u001b[1;32m   2113\u001b[0m                 \u001b[0mbatch_index\u001b[0m \u001b[0;34m=\u001b[0m \u001b[0;36m0\u001b[0m\u001b[0;34m\u001b[0m\u001b[0m\n\u001b[1;32m   2114\u001b[0m                 \u001b[0;32mwhile\u001b[0m \u001b[0msteps_done\u001b[0m \u001b[0;34m<\u001b[0m \u001b[0msteps_per_epoch\u001b[0m\u001b[0;34m:\u001b[0m\u001b[0;34m\u001b[0m\u001b[0m\n\u001b[0;32m-> 2115\u001b[0;31m                     \u001b[0mgenerator_output\u001b[0m \u001b[0;34m=\u001b[0m \u001b[0mnext\u001b[0m\u001b[0;34m(\u001b[0m\u001b[0moutput_generator\u001b[0m\u001b[0;34m)\u001b[0m\u001b[0;34m\u001b[0m\u001b[0m\n\u001b[0m\u001b[1;32m   2116\u001b[0m \u001b[0;34m\u001b[0m\u001b[0m\n\u001b[1;32m   2117\u001b[0m                     \u001b[0;32mif\u001b[0m \u001b[0;32mnot\u001b[0m \u001b[0mhasattr\u001b[0m\u001b[0;34m(\u001b[0m\u001b[0mgenerator_output\u001b[0m\u001b[0;34m,\u001b[0m \u001b[0;34m'__len__'\u001b[0m\u001b[0;34m)\u001b[0m\u001b[0;34m:\u001b[0m\u001b[0;34m\u001b[0m\u001b[0m\n",
      "\u001b[0;32m/opt/virtualenvs/tf/local/lib/python2.7/site-packages/keras/utils/data_utils.pyc\u001b[0m in \u001b[0;36mget\u001b[0;34m(self)\u001b[0m\n\u001b[1;32m    549\u001b[0m         \u001b[0;32mtry\u001b[0m\u001b[0;34m:\u001b[0m\u001b[0;34m\u001b[0m\u001b[0m\n\u001b[1;32m    550\u001b[0m             \u001b[0;32mwhile\u001b[0m \u001b[0mself\u001b[0m\u001b[0;34m.\u001b[0m\u001b[0mis_running\u001b[0m\u001b[0;34m(\u001b[0m\u001b[0;34m)\u001b[0m\u001b[0;34m:\u001b[0m\u001b[0;34m\u001b[0m\u001b[0m\n\u001b[0;32m--> 551\u001b[0;31m                 \u001b[0minputs\u001b[0m \u001b[0;34m=\u001b[0m \u001b[0mself\u001b[0m\u001b[0;34m.\u001b[0m\u001b[0mqueue\u001b[0m\u001b[0;34m.\u001b[0m\u001b[0mget\u001b[0m\u001b[0;34m(\u001b[0m\u001b[0mblock\u001b[0m\u001b[0;34m=\u001b[0m\u001b[0mTrue\u001b[0m\u001b[0;34m)\u001b[0m\u001b[0;34m.\u001b[0m\u001b[0mget\u001b[0m\u001b[0;34m(\u001b[0m\u001b[0;34m)\u001b[0m\u001b[0;34m\u001b[0m\u001b[0m\n\u001b[0m\u001b[1;32m    552\u001b[0m                 \u001b[0mself\u001b[0m\u001b[0;34m.\u001b[0m\u001b[0mqueue\u001b[0m\u001b[0;34m.\u001b[0m\u001b[0mtask_done\u001b[0m\u001b[0;34m(\u001b[0m\u001b[0;34m)\u001b[0m\u001b[0;34m\u001b[0m\u001b[0m\n\u001b[1;32m    553\u001b[0m                 \u001b[0;32mif\u001b[0m \u001b[0minputs\u001b[0m \u001b[0;32mis\u001b[0m \u001b[0;32mnot\u001b[0m \u001b[0mNone\u001b[0m\u001b[0;34m:\u001b[0m\u001b[0;34m\u001b[0m\u001b[0m\n",
      "\u001b[0;32m/usr/lib/python2.7/multiprocessing/pool.pyc\u001b[0m in \u001b[0;36mget\u001b[0;34m(self, timeout)\u001b[0m\n\u001b[1;32m    559\u001b[0m \u001b[0;34m\u001b[0m\u001b[0m\n\u001b[1;32m    560\u001b[0m     \u001b[0;32mdef\u001b[0m \u001b[0mget\u001b[0m\u001b[0;34m(\u001b[0m\u001b[0mself\u001b[0m\u001b[0;34m,\u001b[0m \u001b[0mtimeout\u001b[0m\u001b[0;34m=\u001b[0m\u001b[0mNone\u001b[0m\u001b[0;34m)\u001b[0m\u001b[0;34m:\u001b[0m\u001b[0;34m\u001b[0m\u001b[0m\n\u001b[0;32m--> 561\u001b[0;31m         \u001b[0mself\u001b[0m\u001b[0;34m.\u001b[0m\u001b[0mwait\u001b[0m\u001b[0;34m(\u001b[0m\u001b[0mtimeout\u001b[0m\u001b[0;34m)\u001b[0m\u001b[0;34m\u001b[0m\u001b[0m\n\u001b[0m\u001b[1;32m    562\u001b[0m         \u001b[0;32mif\u001b[0m \u001b[0;32mnot\u001b[0m \u001b[0mself\u001b[0m\u001b[0;34m.\u001b[0m\u001b[0m_ready\u001b[0m\u001b[0;34m:\u001b[0m\u001b[0;34m\u001b[0m\u001b[0m\n\u001b[1;32m    563\u001b[0m             \u001b[0;32mraise\u001b[0m \u001b[0mTimeoutError\u001b[0m\u001b[0;34m\u001b[0m\u001b[0m\n",
      "\u001b[0;32m/usr/lib/python2.7/multiprocessing/pool.pyc\u001b[0m in \u001b[0;36mwait\u001b[0;34m(self, timeout)\u001b[0m\n\u001b[1;32m    554\u001b[0m         \u001b[0;32mtry\u001b[0m\u001b[0;34m:\u001b[0m\u001b[0;34m\u001b[0m\u001b[0m\n\u001b[1;32m    555\u001b[0m             \u001b[0;32mif\u001b[0m \u001b[0;32mnot\u001b[0m \u001b[0mself\u001b[0m\u001b[0;34m.\u001b[0m\u001b[0m_ready\u001b[0m\u001b[0;34m:\u001b[0m\u001b[0;34m\u001b[0m\u001b[0m\n\u001b[0;32m--> 556\u001b[0;31m                 \u001b[0mself\u001b[0m\u001b[0;34m.\u001b[0m\u001b[0m_cond\u001b[0m\u001b[0;34m.\u001b[0m\u001b[0mwait\u001b[0m\u001b[0;34m(\u001b[0m\u001b[0mtimeout\u001b[0m\u001b[0;34m)\u001b[0m\u001b[0;34m\u001b[0m\u001b[0m\n\u001b[0m\u001b[1;32m    557\u001b[0m         \u001b[0;32mfinally\u001b[0m\u001b[0;34m:\u001b[0m\u001b[0;34m\u001b[0m\u001b[0m\n\u001b[1;32m    558\u001b[0m             \u001b[0mself\u001b[0m\u001b[0;34m.\u001b[0m\u001b[0m_cond\u001b[0m\u001b[0;34m.\u001b[0m\u001b[0mrelease\u001b[0m\u001b[0;34m(\u001b[0m\u001b[0;34m)\u001b[0m\u001b[0;34m\u001b[0m\u001b[0m\n",
      "\u001b[0;32m/usr/lib/python2.7/threading.pyc\u001b[0m in \u001b[0;36mwait\u001b[0;34m(self, timeout)\u001b[0m\n\u001b[1;32m    338\u001b[0m         \u001b[0;32mtry\u001b[0m\u001b[0;34m:\u001b[0m    \u001b[0;31m# restore state no matter what (e.g., KeyboardInterrupt)\u001b[0m\u001b[0;34m\u001b[0m\u001b[0m\n\u001b[1;32m    339\u001b[0m             \u001b[0;32mif\u001b[0m \u001b[0mtimeout\u001b[0m \u001b[0;32mis\u001b[0m \u001b[0mNone\u001b[0m\u001b[0;34m:\u001b[0m\u001b[0;34m\u001b[0m\u001b[0m\n\u001b[0;32m--> 340\u001b[0;31m                 \u001b[0mwaiter\u001b[0m\u001b[0;34m.\u001b[0m\u001b[0macquire\u001b[0m\u001b[0;34m(\u001b[0m\u001b[0;34m)\u001b[0m\u001b[0;34m\u001b[0m\u001b[0m\n\u001b[0m\u001b[1;32m    341\u001b[0m                 \u001b[0;32mif\u001b[0m \u001b[0m__debug__\u001b[0m\u001b[0;34m:\u001b[0m\u001b[0;34m\u001b[0m\u001b[0m\n\u001b[1;32m    342\u001b[0m                     \u001b[0mself\u001b[0m\u001b[0;34m.\u001b[0m\u001b[0m_note\u001b[0m\u001b[0;34m(\u001b[0m\u001b[0;34m\"%s.wait(): got it\"\u001b[0m\u001b[0;34m,\u001b[0m \u001b[0mself\u001b[0m\u001b[0;34m)\u001b[0m\u001b[0;34m\u001b[0m\u001b[0m\n",
      "\u001b[0;31mKeyboardInterrupt\u001b[0m: "
     ]
    }
   ],
   "source": [
    "K.set_value(model.optimizer.lr, 0.0001)\n",
    "model.fit_generator(generator = trainGenerator, steps_per_epoch  = len(trainGenerator), epochs = 10, validation_data = testGenerator, verbose = 1)"
   ]
  },
  {
   "cell_type": "markdown",
   "metadata": {},
   "source": [
    "loss: 0.1340 - the best"
   ]
  },
  {
   "cell_type": "code",
   "execution_count": 15,
   "metadata": {
    "collapsed": true
   },
   "outputs": [],
   "source": [
    "model.save(\"YOLO_scratch2\")"
   ]
  },
  {
   "cell_type": "code",
   "execution_count": 19,
   "metadata": {},
   "outputs": [
    {
     "name": "stdout",
     "output_type": "stream",
     "text": [
      "[[ 0.149  0.192  0.033 -0.084 -0.174 -0.007  0.097]\n",
      " [-0.028 -0.094  0.216  0.129  0.325  0.053 -0.083]\n",
      " [ 0.044  0.052  0.184  0.076  0.824  0.035  0.016]\n",
      " [-0.13  -0.288  0.148  0.191  0.156 -0.013  0.042]\n",
      " [ 0.211  0.091  0.823  0.229 -0.155  0.85   0.002]\n",
      " [ 0.095 -0.194  0.03   0.866  0.054  0.367  0.182]\n",
      " [-0.131 -0.134 -0.05   0.121 -0.055  0.148  0.144]]\n"
     ]
    }
   ],
   "source": [
    "x_batch, y_batch = testGenerator.__getitem__(0)\n",
    "img_num = 1\n",
    "y_pred = model.predict(x_batch[img_num:img_num+1])\n",
    "np.set_printoptions(precision=3, suppress = True)\n",
    "\n",
    "print(y_pred[0,:,:,0])"
   ]
  },
  {
   "cell_type": "code",
   "execution_count": 32,
   "metadata": {},
   "outputs": [],
   "source": [
    "decoder = data_postprocessing.Encoder(GRID_W, GRID_H, input_w, input_h, 0.5)"
   ]
  },
  {
   "cell_type": "code",
   "execution_count": 33,
   "metadata": {},
   "outputs": [],
   "source": [
    "pred_rects_encoded, scores = decoder.encode(y_pred)\n",
    "GT_rects_encoded  = decoder.encode_GT(y_batch[img_num:img_num+1])"
   ]
  },
  {
   "cell_type": "code",
   "execution_count": 35,
   "metadata": {},
   "outputs": [
    {
     "data": {
      "text/plain": [
       "array([[ 40.834,  78.979,  56.381, 107.686],\n",
       "       [ 84.343,  64.25 , 101.125,  92.102],\n",
       "       [ 67.571,  22.21 ,  87.357,  54.685],\n",
       "       [ 36.455,  58.705,  49.982,  80.709]], dtype=float32)"
      ]
     },
     "execution_count": 35,
     "metadata": {},
     "output_type": "execute_result"
    }
   ],
   "source": [
    "pred_rects_encoded[0]"
   ]
  },
  {
   "cell_type": "code",
   "execution_count": 36,
   "metadata": {},
   "outputs": [
    {
     "data": {
      "text/plain": [
       "array([[ 68.133,  20.907,  90.3  ,  56.373],\n",
       "       [ 37.8  ,  57.12 ,  52.267,  80.267],\n",
       "       [ 84.7  ,  64.96 , 101.733,  92.213],\n",
       "       [ 40.367,  79.52 ,  57.4  , 106.773]])"
      ]
     },
     "execution_count": 36,
     "metadata": {},
     "output_type": "execute_result"
    }
   ],
   "source": [
    "GT_rects_encoded[0]"
   ]
  },
  {
   "cell_type": "code",
   "execution_count": 42,
   "metadata": {
    "scrolled": false
   },
   "outputs": [
    {
     "data": {
      "text/plain": [
       "<matplotlib.image.AxesImage at 0x1f4bdd75b38>"
      ]
     },
     "execution_count": 42,
     "metadata": {},
     "output_type": "execute_result"
    },
    {
     "data": {
      "image/png": "[encoded data removed]",
      "text/plain": [
       "<Figure size 720x720 with 1 Axes>"
      ]
     },
     "metadata": {},
     "output_type": "display_data"
    }
   ],
   "source": [
    "test_image = x_batch[img_num]*255.0\n",
    "\n",
    "plt.rcParams['figure.figsize'] = 10, 10\n",
    "\n",
    "\n",
    "plt.imshow(visual.draw_image_pred_GT(test_image, GT_rects_encoded[0], pred_rects_encoded[0]) )"
   ]
  },
  {
   "cell_type": "code",
   "execution_count": null,
   "metadata": {},
   "outputs": [],
   "source": []
  }
 ],
 "metadata": {
  "kernelspec": {
   "display_name": "Python 3",
   "language": "python",
   "name": "python3"
  },
  "language_info": {
   "codemirror_mode": {
    "name": "ipython",
    "version": 3
   },
   "file_extension": ".py",
   "mimetype": "text/x-python",
   "name": "python",
   "nbconvert_exporter": "python",
   "pygments_lexer": "ipython3",
   "version": "3.6.5"
  }
 },
 "nbformat": 4,
 "nbformat_minor": 2
}
